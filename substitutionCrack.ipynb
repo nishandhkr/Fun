{
 "cells": [
  {
   "cell_type": "code",
   "execution_count": 44,
   "metadata": {},
   "outputs": [],
   "source": [
    "def frequencyCalculation(stringInput):\n",
    "    from string import ascii_lowercase\n",
    "    ourDictionary = {}\n",
    "    stringInput = stringInput.replace(\" \",\"\")\n",
    "    for c in ascii_lowercase:\n",
    "        ourDictionary[c] = 0\n",
    "    for letter in stringInput:\n",
    "        ourDictionary[letter] = ourDictionary[letter] + 1\n",
    "    for key in ourDictionary:\n",
    "        ourDictionary[key]/=len(stringInput)\n",
    "    print (ourDictionary)\n",
    "    "
   ]
  },
  {
   "cell_type": "code",
   "execution_count": 42,
   "metadata": {},
   "outputs": [],
   "source": [
    "cipherText = \"holsoaqmh mtt nh sabkytol loonoq lb wma mjmh xbj us tbbzl ml sebkie seoh mao eoao sb lsmh be u yotuodo ux holsoaqmh lkqqoxth u mn xbs emtw sb nmx u kloq sb yo seoao ul m lemqbj emxiuxi bdoa no be holsoaqmh pmno lkqqoxth jeh leo emq sb ib u qb xbs zxbj leo jbktq xbs lmh u lmuq lbnoseuxi jabxi xbj u tbxi wba holsoaqmh holsoaqmh tbdo jml lkpe mx omlh imno sb ctmh xbj u xooq m ctmpo sb euqo mjmh be u yotuodo ux holsoaqmh jeh leo emq sb ib u qb xbs zxbj leo jbktq xbs lmh u lmuq lbnoseuxi jabxi xbj u tbxi wba holsoaqmh holsoaqmh tbdo jml lkpe mx omlh imno sb ctmh xbj u xooq m ctmpo sb euqo mjmh be u yotuodo ux holsoaqmh\""
   ]
  },
  {
   "cell_type": "code",
   "execution_count": 45,
   "metadata": {},
   "outputs": [
    {
     "name": "stdout",
     "output_type": "stream",
     "text": [
      "{'a': 0.03885480572597137, 'b': 0.09815950920245399, 'c': 0.0081799591002045, 'd': 0.012269938650306749, 'e': 0.053169734151329244, 'f': 0.0, 'g': 0.0, 'h': 0.06952965235173825, 'i': 0.026584867075664622, 'j': 0.03885480572597137, 'k': 0.018404907975460124, 'l': 0.0736196319018405, 'm': 0.09611451942740286, 'n': 0.02044989775051125, 'o': 0.130879345603272, 'p': 0.010224948875255624, 'q': 0.05725971370143149, 'r': 0.0, 's': 0.06339468302658487, 't': 0.0408997955010225, 'u': 0.05725971370143149, 'v': 0.0, 'w': 0.0081799591002045, 'x': 0.06134969325153374, 'y': 0.010224948875255624, 'z': 0.006134969325153374}\n"
     ]
    }
   ],
   "source": [
    "frequencyCalculation(cipherText)"
   ]
  },
  {
   "cell_type": "code",
   "execution_count": 4,
   "metadata": {},
   "outputs": [
    {
     "data": {
      "text/plain": [
       "'holsoaqmh mtt nh sabkytol loonoq lb wma mjmh xbj us tbbzl ml sebkie seoh mao eoao sb lsmh be u yotuodo ux holsoaqmh lkqqoxth u mn xbs emtw sb nmx u kloq sb yo seoao ul m lemqbj emxiuxi bdoa no be holsoaqmh pmno lkqqoxth jeh leo emq sb ib u qb xbs zxbj leo jbktq xbs lmh u lmuq lbnoseuxi jabxi xbj u tbxi wba holsoaqmh holsoaqmh tbdo jml lkpe mx omlh imno sb ctmh xbj u xooq m ctmpo sb euqo mjmh be u yotuodo ux holsoaqmh jeh leo emq sb ib u qb xbs zxbj leo jbktq xbs lmh u lmuq lbnoseuxi jabxi xbj u tbxi wba holsoaqmh holsoaqmh tbdo jml lkpe mx omlh imno sb ctmh xbj u xooq m ctmpo sb euqo mjmh be u yotuodo ux holsoaqmh'"
      ]
     },
     "execution_count": 4,
     "metadata": {},
     "output_type": "execute_result"
    }
   ],
   "source": [
    "first = cipherText.replace(\"o\", \"E\")\n",
    "cipherText"
   ]
  },
  {
   "cell_type": "code",
   "execution_count": 5,
   "metadata": {},
   "outputs": [
    {
     "data": {
      "text/plain": [
       "'hElsEaqmh mtt nh sabkytEl lEEnEq lb wma mjmh xbj us tbbzl ml sebkie seEh maE eEaE sb lsmh be u yEtuEdE ux hElsEaqmh lkqqExth u mn xbs emtw sb nmx u klEq sb yE seEaE ul m lemqbj emxiuxi bdEa nE be hElsEaqmh pmnE lkqqExth jeh leE emq sb ib u qb xbs zxbj leE jbktq xbs lmh u lmuq lbnEseuxi jabxi xbj u tbxi wba hElsEaqmh hElsEaqmh tbdE jml lkpe mx Emlh imnE sb ctmh xbj u xEEq m ctmpE sb euqE mjmh be u yEtuEdE ux hElsEaqmh jeh leE emq sb ib u qb xbs zxbj leE jbktq xbs lmh u lmuq lbnEseuxi jabxi xbj u tbxi wba hElsEaqmh hElsEaqmh tbdE jml lkpe mx Emlh imnE sb ctmh xbj u xEEq m ctmpE sb euqE mjmh be u yEtuEdE ux hElsEaqmh'"
      ]
     },
     "execution_count": 5,
     "metadata": {},
     "output_type": "execute_result"
    }
   ],
   "source": [
    "first"
   ]
  },
  {
   "cell_type": "code",
   "execution_count": 6,
   "metadata": {},
   "outputs": [],
   "source": [
    "second = first.replace(\"m\", \"A\")"
   ]
  },
  {
   "cell_type": "code",
   "execution_count": null,
   "metadata": {},
   "outputs": [],
   "source": []
  },
  {
   "cell_type": "code",
   "execution_count": 7,
   "metadata": {},
   "outputs": [
    {
     "data": {
      "text/plain": [
       "'hElsEaqAh Att nh sabkytEl lEEnEq lb wAa AjAh xbj us tbbzl Al sebkie seEh AaE eEaE sb lsAh be u yEtuEdE ux hElsEaqAh lkqqExth u An xbs eAtw sb nAx u klEq sb yE seEaE ul A leAqbj eAxiuxi bdEa nE be hElsEaqAh pAnE lkqqExth jeh leE eAq sb ib u qb xbs zxbj leE jbktq xbs lAh u lAuq lbnEseuxi jabxi xbj u tbxi wba hElsEaqAh hElsEaqAh tbdE jAl lkpe Ax EAlh iAnE sb ctAh xbj u xEEq A ctApE sb euqE AjAh be u yEtuEdE ux hElsEaqAh jeh leE eAq sb ib u qb xbs zxbj leE jbktq xbs lAh u lAuq lbnEseuxi jabxi xbj u tbxi wba hElsEaqAh hElsEaqAh tbdE jAl lkpe Ax EAlh iAnE sb ctAh xbj u xEEq A ctApE sb euqE AjAh be u yEtuEdE ux hElsEaqAh'"
      ]
     },
     "execution_count": 7,
     "metadata": {},
     "output_type": "execute_result"
    }
   ],
   "source": [
    "second"
   ]
  },
  {
   "cell_type": "code",
   "execution_count": 8,
   "metadata": {},
   "outputs": [],
   "source": [
    "third = second.replace(\"t\", \"L\")"
   ]
  },
  {
   "cell_type": "code",
   "execution_count": 9,
   "metadata": {},
   "outputs": [
    {
     "data": {
      "text/plain": [
       "'hElsEaqAh ALL nh sabkyLEl lEEnEq lb wAa AjAh xbj us Lbbzl Al sebkie seEh AaE eEaE sb lsAh be u yELuEdE ux hElsEaqAh lkqqExLh u An xbs eALw sb nAx u klEq sb yE seEaE ul A leAqbj eAxiuxi bdEa nE be hElsEaqAh pAnE lkqqExLh jeh leE eAq sb ib u qb xbs zxbj leE jbkLq xbs lAh u lAuq lbnEseuxi jabxi xbj u Lbxi wba hElsEaqAh hElsEaqAh LbdE jAl lkpe Ax EAlh iAnE sb cLAh xbj u xEEq A cLApE sb euqE AjAh be u yELuEdE ux hElsEaqAh jeh leE eAq sb ib u qb xbs zxbj leE jbkLq xbs lAh u lAuq lbnEseuxi jabxi xbj u Lbxi wba hElsEaqAh hElsEaqAh LbdE jAl lkpe Ax EAlh iAnE sb cLAh xbj u xEEq A cLApE sb euqE AjAh be u yELuEdE ux hElsEaqAh'"
      ]
     },
     "execution_count": 9,
     "metadata": {},
     "output_type": "execute_result"
    }
   ],
   "source": [
    "third"
   ]
  },
  {
   "cell_type": "code",
   "execution_count": null,
   "metadata": {},
   "outputs": [],
   "source": []
  },
  {
   "cell_type": "code",
   "execution_count": 10,
   "metadata": {},
   "outputs": [],
   "source": [
    "fourth = third.replace(\"e\", \"H\")"
   ]
  },
  {
   "cell_type": "code",
   "execution_count": 11,
   "metadata": {},
   "outputs": [
    {
     "data": {
      "text/plain": [
       "'hElsEaqAh ALL nh sabkyLEl lEEnEq lb wAa AjAh xbj us Lbbzl Al sHbkiH sHEh AaE HEaE sb lsAh bH u yELuEdE ux hElsEaqAh lkqqExLh u An xbs HALw sb nAx u klEq sb yE sHEaE ul A lHAqbj HAxiuxi bdEa nE bH hElsEaqAh pAnE lkqqExLh jHh lHE HAq sb ib u qb xbs zxbj lHE jbkLq xbs lAh u lAuq lbnEsHuxi jabxi xbj u Lbxi wba hElsEaqAh hElsEaqAh LbdE jAl lkpH Ax EAlh iAnE sb cLAh xbj u xEEq A cLApE sb HuqE AjAh bH u yELuEdE ux hElsEaqAh jHh lHE HAq sb ib u qb xbs zxbj lHE jbkLq xbs lAh u lAuq lbnEsHuxi jabxi xbj u Lbxi wba hElsEaqAh hElsEaqAh LbdE jAl lkpH Ax EAlh iAnE sb cLAh xbj u xEEq A cLApE sb HuqE AjAh bH u yELuEdE ux hElsEaqAh'"
      ]
     },
     "execution_count": 11,
     "metadata": {},
     "output_type": "execute_result"
    }
   ],
   "source": [
    "fourth"
   ]
  },
  {
   "cell_type": "code",
   "execution_count": 12,
   "metadata": {},
   "outputs": [],
   "source": [
    "fifth = fourth"
   ]
  },
  {
   "cell_type": "code",
   "execution_count": 13,
   "metadata": {},
   "outputs": [
    {
     "data": {
      "text/plain": [
       "'hElsEaqAh ALL nh sabkyLEl lEEnEq lb wAa AjAh xbj us Lbbzl Al sHbkiH sHEh AaE HEaE sb lsAh bH u yELuEdE ux hElsEaqAh lkqqExLh u An xbs HALw sb nAx u klEq sb yE sHEaE ul A lHAqbj HAxiuxi bdEa nE bH hElsEaqAh pAnE lkqqExLh jHh lHE HAq sb ib u qb xbs zxbj lHE jbkLq xbs lAh u lAuq lbnEsHuxi jabxi xbj u Lbxi wba hElsEaqAh hElsEaqAh LbdE jAl lkpH Ax EAlh iAnE sb cLAh xbj u xEEq A cLApE sb HuqE AjAh bH u yELuEdE ux hElsEaqAh jHh lHE HAq sb ib u qb xbs zxbj lHE jbkLq xbs lAh u lAuq lbnEsHuxi jabxi xbj u Lbxi wba hElsEaqAh hElsEaqAh LbdE jAl lkpH Ax EAlh iAnE sb cLAh xbj u xEEq A cLApE sb HuqE AjAh bH u yELuEdE ux hElsEaqAh'"
      ]
     },
     "execution_count": 13,
     "metadata": {},
     "output_type": "execute_result"
    }
   ],
   "source": [
    "fifth\n"
   ]
  },
  {
   "cell_type": "code",
   "execution_count": 14,
   "metadata": {},
   "outputs": [],
   "source": [
    "sixth = fifth.replace(\"b\",\"O\")"
   ]
  },
  {
   "cell_type": "code",
   "execution_count": 15,
   "metadata": {},
   "outputs": [
    {
     "data": {
      "text/plain": [
       "'hElsEaqAh ALL nh saOkyLEl lEEnEq lO wAa AjAh xOj us LOOzl Al sHOkiH sHEh AaE HEaE sO lsAh OH u yELuEdE ux hElsEaqAh lkqqExLh u An xOs HALw sO nAx u klEq sO yE sHEaE ul A lHAqOj HAxiuxi OdEa nE OH hElsEaqAh pAnE lkqqExLh jHh lHE HAq sO iO u qO xOs zxOj lHE jOkLq xOs lAh u lAuq lOnEsHuxi jaOxi xOj u LOxi wOa hElsEaqAh hElsEaqAh LOdE jAl lkpH Ax EAlh iAnE sO cLAh xOj u xEEq A cLApE sO HuqE AjAh OH u yELuEdE ux hElsEaqAh jHh lHE HAq sO iO u qO xOs zxOj lHE jOkLq xOs lAh u lAuq lOnEsHuxi jaOxi xOj u LOxi wOa hElsEaqAh hElsEaqAh LOdE jAl lkpH Ax EAlh iAnE sO cLAh xOj u xEEq A cLApE sO HuqE AjAh OH u yELuEdE ux hElsEaqAh'"
      ]
     },
     "execution_count": 15,
     "metadata": {},
     "output_type": "execute_result"
    }
   ],
   "source": [
    "sixth"
   ]
  },
  {
   "cell_type": "code",
   "execution_count": 16,
   "metadata": {},
   "outputs": [],
   "source": [
    "seventh = sixth.replace(\"u\",\"I\")"
   ]
  },
  {
   "cell_type": "code",
   "execution_count": 17,
   "metadata": {},
   "outputs": [
    {
     "data": {
      "text/plain": [
       "'hElsEaqAh ALL nh saOkyLEl lEEnEq lO wAa AjAh xOj Is LOOzl Al sHOkiH sHEh AaE HEaE sO lsAh OH I yELIEdE Ix hElsEaqAh lkqqExLh I An xOs HALw sO nAx I klEq sO yE sHEaE Il A lHAqOj HAxiIxi OdEa nE OH hElsEaqAh pAnE lkqqExLh jHh lHE HAq sO iO I qO xOs zxOj lHE jOkLq xOs lAh I lAIq lOnEsHIxi jaOxi xOj I LOxi wOa hElsEaqAh hElsEaqAh LOdE jAl lkpH Ax EAlh iAnE sO cLAh xOj I xEEq A cLApE sO HIqE AjAh OH I yELIEdE Ix hElsEaqAh jHh lHE HAq sO iO I qO xOs zxOj lHE jOkLq xOs lAh I lAIq lOnEsHIxi jaOxi xOj I LOxi wOa hElsEaqAh hElsEaqAh LOdE jAl lkpH Ax EAlh iAnE sO cLAh xOj I xEEq A cLApE sO HIqE AjAh OH I yELIEdE Ix hElsEaqAh'"
      ]
     },
     "execution_count": 17,
     "metadata": {},
     "output_type": "execute_result"
    }
   ],
   "source": [
    "seventh\n"
   ]
  },
  {
   "cell_type": "code",
   "execution_count": 18,
   "metadata": {},
   "outputs": [],
   "source": [
    "eighth = seventh"
   ]
  },
  {
   "cell_type": "code",
   "execution_count": 19,
   "metadata": {},
   "outputs": [
    {
     "data": {
      "text/plain": [
       "'hElsEaqAh ALL nh saOkyLEl lEEnEq lO wAa AjAh xOj Is LOOzl Al sHOkiH sHEh AaE HEaE sO lsAh OH I yELIEdE Ix hElsEaqAh lkqqExLh I An xOs HALw sO nAx I klEq sO yE sHEaE Il A lHAqOj HAxiIxi OdEa nE OH hElsEaqAh pAnE lkqqExLh jHh lHE HAq sO iO I qO xOs zxOj lHE jOkLq xOs lAh I lAIq lOnEsHIxi jaOxi xOj I LOxi wOa hElsEaqAh hElsEaqAh LOdE jAl lkpH Ax EAlh iAnE sO cLAh xOj I xEEq A cLApE sO HIqE AjAh OH I yELIEdE Ix hElsEaqAh jHh lHE HAq sO iO I qO xOs zxOj lHE jOkLq xOs lAh I lAIq lOnEsHIxi jaOxi xOj I LOxi wOa hElsEaqAh hElsEaqAh LOdE jAl lkpH Ax EAlh iAnE sO cLAh xOj I xEEq A cLApE sO HIqE AjAh OH I yELIEdE Ix hElsEaqAh'"
      ]
     },
     "execution_count": 19,
     "metadata": {},
     "output_type": "execute_result"
    }
   ],
   "source": [
    "eighth"
   ]
  },
  {
   "cell_type": "code",
   "execution_count": 20,
   "metadata": {},
   "outputs": [],
   "source": [
    "ninth = eighth.replace(\"x\", \"N\")"
   ]
  },
  {
   "cell_type": "code",
   "execution_count": 21,
   "metadata": {},
   "outputs": [
    {
     "data": {
      "text/plain": [
       "'hElsEaqAh ALL nh saOkyLEl lEEnEq lO wAa AjAh NOj Is LOOzl Al sHOkiH sHEh AaE HEaE sO lsAh OH I yELIEdE IN hElsEaqAh lkqqENLh I An NOs HALw sO nAN I klEq sO yE sHEaE Il A lHAqOj HANiINi OdEa nE OH hElsEaqAh pAnE lkqqENLh jHh lHE HAq sO iO I qO NOs zNOj lHE jOkLq NOs lAh I lAIq lOnEsHINi jaONi NOj I LONi wOa hElsEaqAh hElsEaqAh LOdE jAl lkpH AN EAlh iAnE sO cLAh NOj I NEEq A cLApE sO HIqE AjAh OH I yELIEdE IN hElsEaqAh jHh lHE HAq sO iO I qO NOs zNOj lHE jOkLq NOs lAh I lAIq lOnEsHINi jaONi NOj I LONi wOa hElsEaqAh hElsEaqAh LOdE jAl lkpH AN EAlh iAnE sO cLAh NOj I NEEq A cLApE sO HIqE AjAh OH I yELIEdE IN hElsEaqAh'"
      ]
     },
     "execution_count": 21,
     "metadata": {},
     "output_type": "execute_result"
    }
   ],
   "source": [
    "ninth"
   ]
  },
  {
   "cell_type": "code",
   "execution_count": 22,
   "metadata": {},
   "outputs": [],
   "source": [
    "tenth= ninth.replace(\"j\", \"W\")"
   ]
  },
  {
   "cell_type": "code",
   "execution_count": 23,
   "metadata": {},
   "outputs": [
    {
     "data": {
      "text/plain": [
       "'hElsEaqAh ALL nh saOkyLEl lEEnEq lO wAa AWAh NOW Is LOOzl Al sHOkiH sHEh AaE HEaE sO lsAh OH I yELIEdE IN hElsEaqAh lkqqENLh I An NOs HALw sO nAN I klEq sO yE sHEaE Il A lHAqOW HANiINi OdEa nE OH hElsEaqAh pAnE lkqqENLh WHh lHE HAq sO iO I qO NOs zNOW lHE WOkLq NOs lAh I lAIq lOnEsHINi WaONi NOW I LONi wOa hElsEaqAh hElsEaqAh LOdE WAl lkpH AN EAlh iAnE sO cLAh NOW I NEEq A cLApE sO HIqE AWAh OH I yELIEdE IN hElsEaqAh WHh lHE HAq sO iO I qO NOs zNOW lHE WOkLq NOs lAh I lAIq lOnEsHINi WaONi NOW I LONi wOa hElsEaqAh hElsEaqAh LOdE WAl lkpH AN EAlh iAnE sO cLAh NOW I NEEq A cLApE sO HIqE AWAh OH I yELIEdE IN hElsEaqAh'"
      ]
     },
     "execution_count": 23,
     "metadata": {},
     "output_type": "execute_result"
    }
   ],
   "source": [
    "tenth"
   ]
  },
  {
   "cell_type": "code",
   "execution_count": 24,
   "metadata": {},
   "outputs": [],
   "source": [
    "eleven= tenth.replace(\"q\", \"D\") ####good"
   ]
  },
  {
   "cell_type": "code",
   "execution_count": 25,
   "metadata": {},
   "outputs": [
    {
     "data": {
      "text/plain": [
       "'hElsEaDAh ALL nh saOkyLEl lEEnED lO wAa AWAh NOW Is LOOzl Al sHOkiH sHEh AaE HEaE sO lsAh OH I yELIEdE IN hElsEaDAh lkDDENLh I An NOs HALw sO nAN I klED sO yE sHEaE Il A lHADOW HANiINi OdEa nE OH hElsEaDAh pAnE lkDDENLh WHh lHE HAD sO iO I DO NOs zNOW lHE WOkLD NOs lAh I lAID lOnEsHINi WaONi NOW I LONi wOa hElsEaDAh hElsEaDAh LOdE WAl lkpH AN EAlh iAnE sO cLAh NOW I NEED A cLApE sO HIDE AWAh OH I yELIEdE IN hElsEaDAh WHh lHE HAD sO iO I DO NOs zNOW lHE WOkLD NOs lAh I lAID lOnEsHINi WaONi NOW I LONi wOa hElsEaDAh hElsEaDAh LOdE WAl lkpH AN EAlh iAnE sO cLAh NOW I NEED A cLApE sO HIDE AWAh OH I yELIEdE IN hElsEaDAh'"
      ]
     },
     "execution_count": 25,
     "metadata": {},
     "output_type": "execute_result"
    }
   ],
   "source": [
    "eleven\n"
   ]
  },
  {
   "cell_type": "code",
   "execution_count": 26,
   "metadata": {},
   "outputs": [],
   "source": [
    "twelve = eleven.replace(\"i\", \"G\")"
   ]
  },
  {
   "cell_type": "code",
   "execution_count": 27,
   "metadata": {},
   "outputs": [
    {
     "data": {
      "text/plain": [
       "'hElsEaDAh ALL nh saOkyLEl lEEnED lO wAa AWAh NOW Is LOOzl Al sHOkGH sHEh AaE HEaE sO lsAh OH I yELIEdE IN hElsEaDAh lkDDENLh I An NOs HALw sO nAN I klED sO yE sHEaE Il A lHADOW HANGING OdEa nE OH hElsEaDAh pAnE lkDDENLh WHh lHE HAD sO GO I DO NOs zNOW lHE WOkLD NOs lAh I lAID lOnEsHING WaONG NOW I LONG wOa hElsEaDAh hElsEaDAh LOdE WAl lkpH AN EAlh GAnE sO cLAh NOW I NEED A cLApE sO HIDE AWAh OH I yELIEdE IN hElsEaDAh WHh lHE HAD sO GO I DO NOs zNOW lHE WOkLD NOs lAh I lAID lOnEsHING WaONG NOW I LONG wOa hElsEaDAh hElsEaDAh LOdE WAl lkpH AN EAlh GAnE sO cLAh NOW I NEED A cLApE sO HIDE AWAh OH I yELIEdE IN hElsEaDAh'"
      ]
     },
     "execution_count": 27,
     "metadata": {},
     "output_type": "execute_result"
    }
   ],
   "source": [
    "twelve"
   ]
  },
  {
   "cell_type": "code",
   "execution_count": 28,
   "metadata": {},
   "outputs": [
    {
     "data": {
      "text/plain": [
       "'hElsEaDAh ALL nh saOkyLEl lEEnED lO wAa AWAh NOW Is LOOzl Al sHOkGH sHEh AaE HEaE sO lsAh OH I yELIEVE IN hElsEaDAh lkDDENLh I An NOs HALw sO nAN I klED sO yE sHEaE Il A lHADOW HANGING OVEa nE OH hElsEaDAh pAnE lkDDENLh WHh lHE HAD sO GO I DO NOs zNOW lHE WOkLD NOs lAh I lAID lOnEsHING WaONG NOW I LONG wOa hElsEaDAh hElsEaDAh LOVE WAl lkpH AN EAlh GAnE sO cLAh NOW I NEED A cLApE sO HIDE AWAh OH I yELIEVE IN hElsEaDAh WHh lHE HAD sO GO I DO NOs zNOW lHE WOkLD NOs lAh I lAID lOnEsHING WaONG NOW I LONG wOa hElsEaDAh hElsEaDAh LOVE WAl lkpH AN EAlh GAnE sO cLAh NOW I NEED A cLApE sO HIDE AWAh OH I yELIEVE IN hElsEaDAh'"
      ]
     },
     "execution_count": 28,
     "metadata": {},
     "output_type": "execute_result"
    }
   ],
   "source": [
    "thirteen = twelve.replace(\"d\",\"V\")\n",
    "thirteen"
   ]
  },
  {
   "cell_type": "code",
   "execution_count": 29,
   "metadata": {},
   "outputs": [],
   "source": [
    "fourteen= thirteen.replace(\"s\", \"T\")"
   ]
  },
  {
   "cell_type": "code",
   "execution_count": 30,
   "metadata": {},
   "outputs": [
    {
     "data": {
      "text/plain": [
       "'hElTEaDAh ALL nh TaOkyLEl lEEnED lO wAa AWAh NOW IT LOOzl Al THOkGH THEh AaE HEaE TO lTAh OH I yELIEVE IN hElTEaDAh lkDDENLh I An NOT HALw TO nAN I klED TO yE THEaE Il A lHADOW HANGING OVEa nE OH hElTEaDAh pAnE lkDDENLh WHh lHE HAD TO GO I DO NOT zNOW lHE WOkLD NOT lAh I lAID lOnETHING WaONG NOW I LONG wOa hElTEaDAh hElTEaDAh LOVE WAl lkpH AN EAlh GAnE TO cLAh NOW I NEED A cLApE TO HIDE AWAh OH I yELIEVE IN hElTEaDAh WHh lHE HAD TO GO I DO NOT zNOW lHE WOkLD NOT lAh I lAID lOnETHING WaONG NOW I LONG wOa hElTEaDAh hElTEaDAh LOVE WAl lkpH AN EAlh GAnE TO cLAh NOW I NEED A cLApE TO HIDE AWAh OH I yELIEVE IN hElTEaDAh'"
      ]
     },
     "execution_count": 30,
     "metadata": {},
     "output_type": "execute_result"
    }
   ],
   "source": [
    "fourteen"
   ]
  },
  {
   "cell_type": "code",
   "execution_count": 31,
   "metadata": {},
   "outputs": [
    {
     "data": {
      "text/plain": [
       "'hElTEaDAh ALL Mh TaOkyLEl lEEMED lO wAa AWAh NOW IT LOOzl Al THOkGH THEh AaE HEaE TO lTAh OH I yELIEVE IN hElTEaDAh lkDDENLh I AM NOT HALw TO MAN I klED TO yE THEaE Il A lHADOW HANGING OVEa ME OH hElTEaDAh pAME lkDDENLh WHh lHE HAD TO GO I DO NOT zNOW lHE WOkLD NOT lAh I lAID lOMETHING WaONG NOW I LONG wOa hElTEaDAh hElTEaDAh LOVE WAl lkpH AN EAlh GAME TO cLAh NOW I NEED A cLApE TO HIDE AWAh OH I yELIEVE IN hElTEaDAh WHh lHE HAD TO GO I DO NOT zNOW lHE WOkLD NOT lAh I lAID lOMETHING WaONG NOW I LONG wOa hElTEaDAh hElTEaDAh LOVE WAl lkpH AN EAlh GAME TO cLAh NOW I NEED A cLApE TO HIDE AWAh OH I yELIEVE IN hElTEaDAh'"
      ]
     },
     "execution_count": 31,
     "metadata": {},
     "output_type": "execute_result"
    }
   ],
   "source": [
    "fifteen = fourteen.replace(\"n\", \"M\")\n",
    "fifteen"
   ]
  },
  {
   "cell_type": "code",
   "execution_count": 32,
   "metadata": {},
   "outputs": [
    {
     "data": {
      "text/plain": [
       "'hElTERDAh ALL Mh TROkyLEl lEEMED lO wAR AWAh NOW IT LOOzl Al THOkGH THEh ARE HERE TO lTAh OH I yELIEVE IN hElTERDAh lkDDENLh I AM NOT HALw TO MAN I klED TO yE THERE Il A lHADOW HANGING OVER ME OH hElTERDAh pAME lkDDENLh WHh lHE HAD TO GO I DO NOT zNOW lHE WOkLD NOT lAh I lAID lOMETHING WRONG NOW I LONG wOR hElTERDAh hElTERDAh LOVE WAl lkpH AN EAlh GAME TO cLAh NOW I NEED A cLApE TO HIDE AWAh OH I yELIEVE IN hElTERDAh WHh lHE HAD TO GO I DO NOT zNOW lHE WOkLD NOT lAh I lAID lOMETHING WRONG NOW I LONG wOR hElTERDAh hElTERDAh LOVE WAl lkpH AN EAlh GAME TO cLAh NOW I NEED A cLApE TO HIDE AWAh OH I yELIEVE IN hElTERDAh'"
      ]
     },
     "execution_count": 32,
     "metadata": {},
     "output_type": "execute_result"
    }
   ],
   "source": [
    "fifteen = fifteen.replace(\"a\", \"R\")\n",
    "fifteen"
   ]
  },
  {
   "cell_type": "code",
   "execution_count": 33,
   "metadata": {},
   "outputs": [
    {
     "data": {
      "text/plain": [
       "'hElTERDAh ALL Mh TROkyLEl lEEMED lO wAR AWAh NOW IT LOOKl Al THOkGH THEh ARE HERE TO lTAh OH I yELIEVE IN hElTERDAh lkDDENLh I AM NOT HALw TO MAN I klED TO yE THERE Il A lHADOW HANGING OVER ME OH hElTERDAh pAME lkDDENLh WHh lHE HAD TO GO I DO NOT KNOW lHE WOkLD NOT lAh I lAID lOMETHING WRONG NOW I LONG wOR hElTERDAh hElTERDAh LOVE WAl lkpH AN EAlh GAME TO cLAh NOW I NEED A cLApE TO HIDE AWAh OH I yELIEVE IN hElTERDAh WHh lHE HAD TO GO I DO NOT KNOW lHE WOkLD NOT lAh I lAID lOMETHING WRONG NOW I LONG wOR hElTERDAh hElTERDAh LOVE WAl lkpH AN EAlh GAME TO cLAh NOW I NEED A cLApE TO HIDE AWAh OH I yELIEVE IN hElTERDAh'"
      ]
     },
     "execution_count": 33,
     "metadata": {},
     "output_type": "execute_result"
    }
   ],
   "source": [
    "fifteen = fifteen.replace(\"z\", \"K\")\n",
    "fifteen"
   ]
  },
  {
   "cell_type": "code",
   "execution_count": 34,
   "metadata": {},
   "outputs": [
    {
     "data": {
      "text/plain": [
       "'hESTERDAh ALL Mh TROkyLES SEEMED SO wAR AWAh NOW IT LOOKS AS THOkGH THEh ARE HERE TO STAh OH I yELIEVE IN hESTERDAh SkDDENLh I AM NOT HALw TO MAN I kSED TO yE THERE IS A SHADOW HANGING OVER ME OH hESTERDAh pAME SkDDENLh WHh SHE HAD TO GO I DO NOT KNOW SHE WOkLD NOT SAh I SAID SOMETHING WRONG NOW I LONG wOR hESTERDAh hESTERDAh LOVE WAS SkpH AN EASh GAME TO cLAh NOW I NEED A cLApE TO HIDE AWAh OH I yELIEVE IN hESTERDAh WHh SHE HAD TO GO I DO NOT KNOW SHE WOkLD NOT SAh I SAID SOMETHING WRONG NOW I LONG wOR hESTERDAh hESTERDAh LOVE WAS SkpH AN EASh GAME TO cLAh NOW I NEED A cLApE TO HIDE AWAh OH I yELIEVE IN hESTERDAh'"
      ]
     },
     "execution_count": 34,
     "metadata": {},
     "output_type": "execute_result"
    }
   ],
   "source": [
    "fifteen = fifteen.replace(\"l\", \"S\")\n",
    "fifteen"
   ]
  },
  {
   "cell_type": "code",
   "execution_count": 35,
   "metadata": {},
   "outputs": [
    {
     "data": {
      "text/plain": [
       "'YESTERDAY ALL MY TROkyLES SEEMED SO wAR AWAY NOW IT LOOKS AS THOkGH THEY ARE HERE TO STAY OH I yELIEVE IN YESTERDAY SkDDENLY I AM NOT HALw TO MAN I kSED TO yE THERE IS A SHADOW HANGING OVER ME OH YESTERDAY pAME SkDDENLY WHY SHE HAD TO GO I DO NOT KNOW SHE WOkLD NOT SAY I SAID SOMETHING WRONG NOW I LONG wOR YESTERDAY YESTERDAY LOVE WAS SkpH AN EASY GAME TO cLAY NOW I NEED A cLApE TO HIDE AWAY OH I yELIEVE IN YESTERDAY WHY SHE HAD TO GO I DO NOT KNOW SHE WOkLD NOT SAY I SAID SOMETHING WRONG NOW I LONG wOR YESTERDAY YESTERDAY LOVE WAS SkpH AN EASY GAME TO cLAY NOW I NEED A cLApE TO HIDE AWAY OH I yELIEVE IN YESTERDAY'"
      ]
     },
     "execution_count": 35,
     "metadata": {},
     "output_type": "execute_result"
    }
   ],
   "source": [
    "fifteen = fifteen.replace(\"h\", \"Y\")\n",
    "fifteen"
   ]
  },
  {
   "cell_type": "code",
   "execution_count": 36,
   "metadata": {},
   "outputs": [
    {
     "data": {
      "text/plain": [
       "'YESTERDAY ALL MY TROUyLES SEEMED SO wAR AWAY NOW IT LOOKS AS THOUGH THEY ARE HERE TO STAY OH I yELIEVE IN YESTERDAY SUDDENLY I AM NOT HALw TO MAN I USED TO yE THERE IS A SHADOW HANGING OVER ME OH YESTERDAY pAME SUDDENLY WHY SHE HAD TO GO I DO NOT KNOW SHE WOULD NOT SAY I SAID SOMETHING WRONG NOW I LONG wOR YESTERDAY YESTERDAY LOVE WAS SUpH AN EASY GAME TO cLAY NOW I NEED A cLApE TO HIDE AWAY OH I yELIEVE IN YESTERDAY WHY SHE HAD TO GO I DO NOT KNOW SHE WOULD NOT SAY I SAID SOMETHING WRONG NOW I LONG wOR YESTERDAY YESTERDAY LOVE WAS SUpH AN EASY GAME TO cLAY NOW I NEED A cLApE TO HIDE AWAY OH I yELIEVE IN YESTERDAY'"
      ]
     },
     "execution_count": 36,
     "metadata": {},
     "output_type": "execute_result"
    }
   ],
   "source": [
    "fifteen = fifteen.replace(\"k\", \"U\")\n",
    "fifteen"
   ]
  },
  {
   "cell_type": "code",
   "execution_count": 38,
   "metadata": {},
   "outputs": [
    {
     "data": {
      "text/plain": [
       "'YESTERDAY ALL MY TROUBLES SEEMED SO FAR AWAY NOW IT LOOKS AS THOUGH THEY ARE HERE TO STAY OH I BELIEVE IN YESTERDAY SUDDENLY I AM NOT HALF TO MAN I USED TO BE THERE IS A SHADOW HANGING OVER ME OH YESTERDAY pAME SUDDENLY WHY SHE HAD TO GO I DO NOT KNOW SHE WOULD NOT SAY I SAID SOMETHING WRONG NOW I LONG FOR YESTERDAY YESTERDAY LOVE WAS SUpH AN EASY GAME TO cLAY NOW I NEED A cLApE TO HIDE AWAY OH I BELIEVE IN YESTERDAY WHY SHE HAD TO GO I DO NOT KNOW SHE WOULD NOT SAY I SAID SOMETHING WRONG NOW I LONG FOR YESTERDAY YESTERDAY LOVE WAS SUpH AN EASY GAME TO cLAY NOW I NEED A cLApE TO HIDE AWAY OH I BELIEVE IN YESTERDAY'"
      ]
     },
     "execution_count": 38,
     "metadata": {},
     "output_type": "execute_result"
    }
   ],
   "source": [
    "fifteen = fifteen.replace(\"y\", \"B\")\n",
    "fifteen = fifteen.replace(\"w\", \"F\")\n",
    "fifteen"
   ]
  },
  {
   "cell_type": "code",
   "execution_count": 39,
   "metadata": {},
   "outputs": [
    {
     "data": {
      "text/plain": [
       "'YESTERDAY ALL MY TROUBLES SEEMED SO FAR AWAY NOW IT LOOKS AS THOUGH THEY ARE HERE TO STAY OH I BELIEVE IN YESTERDAY SUDDENLY I AM NOT HALF TO MAN I USED TO BE THERE IS A SHADOW HANGING OVER ME OH YESTERDAY CAME SUDDENLY WHY SHE HAD TO GO I DO NOT KNOW SHE WOULD NOT SAY I SAID SOMETHING WRONG NOW I LONG FOR YESTERDAY YESTERDAY LOVE WAS SUCH AN EASY GAME TO PLAY NOW I NEED A PLACE TO HIDE AWAY OH I BELIEVE IN YESTERDAY WHY SHE HAD TO GO I DO NOT KNOW SHE WOULD NOT SAY I SAID SOMETHING WRONG NOW I LONG FOR YESTERDAY YESTERDAY LOVE WAS SUCH AN EASY GAME TO PLAY NOW I NEED A PLACE TO HIDE AWAY OH I BELIEVE IN YESTERDAY'"
      ]
     },
     "execution_count": 39,
     "metadata": {},
     "output_type": "execute_result"
    }
   ],
   "source": [
    "fifteen = fifteen.replace(\"c\", \"P\")\n",
    "fifteen = fifteen.replace(\"p\", \"C\")\n",
    "fifteen"
   ]
  },
  {
   "cell_type": "code",
   "execution_count": null,
   "metadata": {},
   "outputs": [],
   "source": []
  },
  {
   "cell_type": "code",
   "execution_count": null,
   "metadata": {},
   "outputs": [],
   "source": [
    "\n",
    "    "
   ]
  },
  {
   "cell_type": "code",
   "execution_count": null,
   "metadata": {},
   "outputs": [],
   "source": []
  }
 ],
 "metadata": {
  "kernelspec": {
   "display_name": "Python 3",
   "language": "python",
   "name": "python3"
  },
  "language_info": {
   "codemirror_mode": {
    "name": "ipython",
    "version": 3
   },
   "file_extension": ".py",
   "mimetype": "text/x-python",
   "name": "python",
   "nbconvert_exporter": "python",
   "pygments_lexer": "ipython3",
   "version": "3.6.7"
  }
 },
 "nbformat": 4,
 "nbformat_minor": 2
}
