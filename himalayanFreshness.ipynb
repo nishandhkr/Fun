{
 "cells": [
  {
   "cell_type": "markdown",
   "metadata": {},
   "source": [
    "1.1"
   ]
  },
  {
   "cell_type": "code",
   "execution_count": 75,
   "metadata": {},
   "outputs": [],
   "source": [
    "'''o(log(n)) Cool Way to do it from the last bit instead of the first bit'''\n",
    "def Exponentiation(p, alpha, exponent):\n",
    "    result = 1\n",
    "    while (exponent > 0):\n",
    "        if(exponent & 1 == 1): # if the final bit is odd multiply\n",
    "            result = (result * alpha) % p\n",
    "        exponent = exponent >> 1 \n",
    "        alpha = (alpha * alpha) % p\n",
    "    return (result)"
   ]
  },
  {
   "cell_type": "markdown",
   "metadata": {},
   "source": [
    "Setting up the public and private key (Alice Does this)"
   ]
  },
  {
   "cell_type": "code",
   "execution_count": 76,
   "metadata": {},
   "outputs": [],
   "source": [
    "p = 23\n",
    "q = 29\n",
    "n = p*q"
   ]
  },
  {
   "cell_type": "code",
   "execution_count": 85,
   "metadata": {},
   "outputs": [],
   "source": [
    "def encrypt(x,n):\n",
    "    return Exponentiation(n, x, 3)"
   ]
  },
  {
   "cell_type": "markdown",
   "metadata": {},
   "source": [
    "Encryption Process begins (Ravi Does this)"
   ]
  },
  {
   "cell_type": "code",
   "execution_count": 91,
   "metadata": {},
   "outputs": [],
   "source": [
    "x =567\n",
    "y = encrypt(x, n)\n"
   ]
  },
  {
   "cell_type": "markdown",
   "metadata": {},
   "source": [
    "ravi sends y to alice"
   ]
  },
  {
   "cell_type": "code",
   "execution_count": 92,
   "metadata": {},
   "outputs": [
    {
     "data": {
      "text/plain": [
       "500"
      ]
     },
     "execution_count": 92,
     "metadata": {},
     "output_type": "execute_result"
    }
   ],
   "source": [
    "def decrypt(y,prime):\n",
    "    return Exponentiation(prime, y, int((2*prime-1)/3))\n",
    "#partial decryption mod p\n",
    "xPartialModP = decrypt (y, p)\n",
    "xPartialModQ = decrypt (y, q)\n",
    "y\n"
   ]
  },
  {
   "cell_type": "code",
   "execution_count": 93,
   "metadata": {},
   "outputs": [],
   "source": [
    "def chineseRemainderTheorem(num, rem, k): \n",
    "    x = 1; # Initialize result \n",
    "  \n",
    "    # As per the Chinise remainder \n",
    "    # theorem, this loop will \n",
    "    # always break. \n",
    "    while(True):       \n",
    "        # Check if remainder of  \n",
    "        # x % num[j] is rem[j]  \n",
    "        # or not (for all j from  \n",
    "        # 0 to k-1) \n",
    "        j = 0; \n",
    "        while(j < k): \n",
    "            if (x % num[j] != rem[j]): \n",
    "                break; \n",
    "            j += 1; \n",
    "  \n",
    "        # If all remainders  \n",
    "        # matched, we found x \n",
    "        if (j == k): \n",
    "            return x; \n",
    "        x +=1"
   ]
  },
  {
   "cell_type": "code",
   "execution_count": 94,
   "metadata": {},
   "outputs": [],
   "source": [
    "partialMessages  = [xPartialModP, xPartialModQ]\n",
    "primes = [p, q]\n",
    "X= chineseRemainderTheorem(primes, partialMessages, 2)"
   ]
  },
  {
   "cell_type": "code",
   "execution_count": 95,
   "metadata": {},
   "outputs": [
    {
     "data": {
      "text/plain": [
       "567"
      ]
     },
     "execution_count": 95,
     "metadata": {},
     "output_type": "execute_result"
    }
   ],
   "source": [
    "X"
   ]
  }
 ],
 "metadata": {
  "kernelspec": {
   "display_name": "Python 3",
   "language": "python",
   "name": "python3"
  },
  "language_info": {
   "codemirror_mode": {
    "name": "ipython",
    "version": 3
   },
   "file_extension": ".py",
   "mimetype": "text/x-python",
   "name": "python",
   "nbconvert_exporter": "python",
   "pygments_lexer": "ipython3",
   "version": "3.7.1"
  }
 },
 "nbformat": 4,
 "nbformat_minor": 2
}
