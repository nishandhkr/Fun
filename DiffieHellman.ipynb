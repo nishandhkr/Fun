{
 "cells": [
  {
   "cell_type": "markdown",
   "metadata": {},
   "source": [
    "1.1"
   ]
  },
  {
   "cell_type": "code",
   "execution_count": 74,
   "metadata": {},
   "outputs": [],
   "source": [
    "'''\n",
    "infeasible to figure out this cycle hard problem for hackers potentially do all very high prime exponentiation\n",
    "o(n)\n",
    "'''\n",
    "\n",
    "def populateCyclicExponentList(p, alpha):\n",
    "    dictionaryOfExponents = dict()\n",
    "    dictionaryOfExponents[1] = alpha % p\n",
    "    counter = 1\n",
    "    while 1:\n",
    "        dictionaryOfExponents[counter+1] = ((dictionaryOfExponents[counter] * alpha) % p)\n",
    "        \n",
    "        counter = counter + 1\n",
    "        if (dictionaryOfExponents[counter] == 1):\n",
    "            break \n",
    "    return (dictionaryOfExponents)"
   ]
  },
  {
   "cell_type": "code",
   "execution_count": 75,
   "metadata": {},
   "outputs": [
    {
     "name": "stdout",
     "output_type": "stream",
     "text": [
      "{1: 6, 2: 10, 3: 8, 4: 9, 5: 2, 6: 12, 7: 7, 8: 3, 9: 5, 10: 4, 11: 11, 12: 1}\n"
     ]
    }
   ],
   "source": [
    "dictionaryOfExponents = populateCyclicExponentList(13, 6)\n",
    "print (dictionaryOfExponents)"
   ]
  },
  {
   "cell_type": "markdown",
   "metadata": {},
   "source": [
    "1.5"
   ]
  },
  {
   "cell_type": "code",
   "execution_count": 89,
   "metadata": {},
   "outputs": [],
   "source": [
    "'''o(log(n)) Cool Way to do it from the last bit instead of the first bit'''\n",
    "def Exponentiation(p, alpha, exponent):\n",
    "    result = 1\n",
    "    while (exponent > 0):\n",
    "        if(exponent & 1 == 1): # if the final bit is odd multiply\n",
    "            result = (result * alpha) % p\n",
    "        exponent = exponent >> 1 \n",
    "        alpha = (alpha * alpha) % p\n",
    "    return (result)"
   ]
  },
  {
   "cell_type": "code",
   "execution_count": 90,
   "metadata": {},
   "outputs": [],
   "source": [
    "def diffieHellmanExchange(p, alpha, alicePrivate, BobPrivate):\n",
    "    KPublicAlice = Exponentiation(p, alpha, alicePrivate)\n",
    "    KPublicBob = Exponentiation(p, alpha, BobPrivate)\n",
    "    CommonKeyB = Exponentiation(p, KPublicAlice, BobPrivate)\n",
    "    CommonKeyA = Exponentiation(p, KPublicBob, alicePrivate)\n",
    "    print (f'p = {p}\\nalpha = {alpha}\\nPublicKeyAlice = {KPublicAlice}\\nPublicKeyBob = {KPublicBob}\\nCommonKeyA = {CommonKeyA}\\nCommonKeyB = {CommonKeyB}')\n",
    "    "
   ]
  },
  {
   "cell_type": "code",
   "execution_count": 91,
   "metadata": {},
   "outputs": [
    {
     "name": "stdout",
     "output_type": "stream",
     "text": [
      "p = 467\n",
      "alpha = 2\n",
      "PublicKeyAlice = 8\n",
      "PublicKeyBob = 32\n",
      "CommonKeyA = 78\n",
      "CommonKeyB = 78\n"
     ]
    }
   ],
   "source": [
    "diffieHellmanExchange(467, 2, 3, 5)"
   ]
  },
  {
   "cell_type": "code",
   "execution_count": 92,
   "metadata": {},
   "outputs": [
    {
     "name": "stdout",
     "output_type": "stream",
     "text": [
      "p = 467\n",
      "alpha = 2\n",
      "PublicKeyAlice = 137\n",
      "PublicKeyBob = 84\n",
      "CommonKeyA = 90\n",
      "CommonKeyB = 90\n"
     ]
    }
   ],
   "source": [
    "diffieHellmanExchange(467, 2, 400, 134)"
   ]
  },
  {
   "cell_type": "code",
   "execution_count": 93,
   "metadata": {},
   "outputs": [
    {
     "name": "stdout",
     "output_type": "stream",
     "text": [
      "p = 467\n",
      "alpha = 2\n",
      "PublicKeyAlice = 394\n",
      "PublicKeyBob = 313\n",
      "CommonKeyA = 206\n",
      "CommonKeyB = 206\n"
     ]
    }
   ],
   "source": [
    "diffieHellmanExchange(467, 2, 228, 57)"
   ]
  },
  {
   "cell_type": "code",
   "execution_count": 94,
   "metadata": {},
   "outputs": [
    {
     "name": "stdout",
     "output_type": "stream",
     "text": [
      "p = 467\n",
      "alpha = 2\n",
      "PublicKeyAlice = 29\n",
      "PublicKeyBob = 444\n",
      "CommonKeyA = 292\n",
      "CommonKeyB = 292\n"
     ]
    }
   ],
   "source": [
    "diffieHellmanExchange(467,2,213,105)"
   ]
  },
  {
   "cell_type": "markdown",
   "metadata": {},
   "source": [
    "1.13"
   ]
  },
  {
   "cell_type": "code",
   "execution_count": 1,
   "metadata": {},
   "outputs": [],
   "source": [
    "# xgcd and modularInverse Copied From Wiki\n",
    "def xgcd(a, b):\n",
    "    \"\"\"return (g, x, y) such that a*x + b*y = g = gcd(a, b)\"\"\"\n",
    "    x0, x1, y0, y1 = 0, 1, 1, 0\n",
    "    while a != 0:\n",
    "        q, b, a = b // a, a, b % a\n",
    "        y0, y1 = y1, y0 - q * y1\n",
    "        x0, x1 = x1, x0 - q * x1\n",
    "    return b, x0, y0\n",
    "\n",
    "def modularInverse(a, moduloP):\n",
    "    gcd, inverse, _ = xgcd(a, moduloP)\n",
    "    if gcd == 1:\n",
    "        return inverse % moduloP\n",
    "    else:\n",
    "        return 0;\n",
    "    \n",
    "    \n",
    "\n",
    "def elgamelExchangeEncryption(p, alpha, i, d, plaintext):\n",
    "    beta = Exponentiation(p, alpha, d)\n",
    "    EphemeralKey = Exponentiation(p, alpha, i)\n",
    "    EncryptionKey = Exponentiation(p, beta, i)\n",
    "    cipherText = (plaintext * EncryptionKey % p)\n",
    "    print (f'p = {p}\\nalpha = {alpha}\\nbeta = {beta} \\\\\\Bob Sends this to Alice \\nEphemeral Key = {EphemeralKey} \\\\\\Alice Sends this back to Bob For Decryption\\nEncryption Key = {EncryptionKey}\\nCipherText = {cipherText}\\n\\n')\n",
    "    return EphemeralKey, cipherText\n",
    "    \n",
    "def elgamelDecryptionScheme(p, cipherText, EphemeralKey, d):\n",
    "    EncryptionKey = Exponentiation(p, EphemeralKey, d)\n",
    "    DecryptionKey = modularInverse(EncryptionKey, p)\n",
    "    plainText = cipherText * DecryptionKey % p\n",
    "    print (f'Decryption Key (inverse Of Encryption Key) = {DecryptionKey}\\nPlain Text = {plainText} ')"
   ]
  },
  {
   "cell_type": "code",
   "execution_count": 96,
   "metadata": {},
   "outputs": [
    {
     "name": "stdout",
     "output_type": "stream",
     "text": [
      "p = 467\n",
      "alpha = 2\n",
      "beta = 444 \\\\Bob Sends this to Alice \n",
      "Ephemeral Key = 29 \\\\Alice Sends this back to Bob For Decryption\n",
      "Encryption Key = 292\n",
      "CipherText = 296\n",
      "\n",
      "\n",
      "Decryption Key (inverse Of Encryption Key) = 8\n",
      "Plain Text = 33 \n"
     ]
    }
   ],
   "source": [
    "i = 213\n",
    "d = 105\n",
    "x = 33\n",
    "EphemeralKey, CipherText = elgamelExchangeEncryption(467, 2, i, d, x)\n",
    "elgamelDecryptionScheme(467, CipherText, EphemeralKey, 105)"
   ]
  },
  {
   "cell_type": "code",
   "execution_count": 97,
   "metadata": {},
   "outputs": [
    {
     "name": "stdout",
     "output_type": "stream",
     "text": [
      "p = 467\n",
      "alpha = 2\n",
      "beta = 444 \\\\Bob Sends this to Alice \n",
      "Ephemeral Key = 125 \\\\Alice Sends this back to Bob For Decryption\n",
      "Encryption Key = 278\n",
      "CipherText = 301\n",
      "\n",
      "\n",
      "Decryption Key (inverse Of Encryption Key) = 42\n",
      "Plain Text = 33 \n"
     ]
    }
   ],
   "source": [
    "i = 123\n",
    "d = 105\n",
    "x = 33\n",
    "EphemeralKey, CipherText = elgamelExchangeEncryption(467, 2, i, d, x)\n",
    "elgamelDecryptionScheme(467, CipherText, EphemeralKey, d)"
   ]
  },
  {
   "cell_type": "code",
   "execution_count": 98,
   "metadata": {},
   "outputs": [
    {
     "name": "stdout",
     "output_type": "stream",
     "text": [
      "p = 467\n",
      "alpha = 2\n",
      "beta = 317 \\\\Bob Sends this to Alice \n",
      "Ephemeral Key = 80 \\\\Alice Sends this back to Bob For Decryption\n",
      "Encryption Key = 12\n",
      "CipherText = 174\n",
      "\n",
      "\n",
      "Decryption Key (inverse Of Encryption Key) = 39\n",
      "Plain Text = 248 \n"
     ]
    }
   ],
   "source": [
    "i = 45\n",
    "d = 300\n",
    "x = 248\n",
    "EphemeralKey, CipherText = elgamelExchangeEncryption(467, 2, i, d, x)\n",
    "elgamelDecryptionScheme(467, CipherText, EphemeralKey, d)"
   ]
  },
  {
   "cell_type": "code",
   "execution_count": 99,
   "metadata": {},
   "outputs": [
    {
     "name": "stdout",
     "output_type": "stream",
     "text": [
      "p = 467\n",
      "alpha = 2\n",
      "beta = 317 \\\\Bob Sends this to Alice \n",
      "Ephemeral Key = 320 \\\\Alice Sends this back to Bob For Decryption\n",
      "Encryption Key = 74\n",
      "CipherText = 139\n",
      "\n",
      "\n",
      "Decryption Key (inverse Of Encryption Key) = 284\n",
      "Plain Text = 248 \n"
     ]
    }
   ],
   "source": [
    "i = 47\n",
    "d = 300\n",
    "x = 248\n",
    "EphemeralKey, CipherText = elgamelExchangeEncryption(467, 2, i, d, x)\n",
    "elgamelDecryptionScheme(467, CipherText, EphemeralKey, d)"
   ]
  },
  {
   "cell_type": "code",
   "execution_count": 2,
   "metadata": {},
   "outputs": [
    {
     "data": {
      "text/plain": [
       "3"
      ]
     },
     "execution_count": 2,
     "metadata": {},
     "output_type": "execute_result"
    }
   ],
   "source": [
    "modularInverse(10,29)"
   ]
  }
 ],
 "metadata": {
  "kernelspec": {
   "display_name": "Python 3",
   "language": "python",
   "name": "python3"
  },
  "language_info": {
   "codemirror_mode": {
    "name": "ipython",
    "version": 3
   },
   "file_extension": ".py",
   "mimetype": "text/x-python",
   "name": "python",
   "nbconvert_exporter": "python",
   "pygments_lexer": "ipython3",
   "version": "3.7.1"
  }
 },
 "nbformat": 4,
 "nbformat_minor": 2
}
